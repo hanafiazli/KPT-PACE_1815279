{
  "nbformat": 4,
  "nbformat_minor": 0,
  "metadata": {
    "colab": {
      "name": "Load data model.ipynb",
      "provenance": [],
      "collapsed_sections": []
    },
    "kernelspec": {
      "name": "python3",
      "display_name": "Python 3"
    },
    "language_info": {
      "name": "python"
    },
    "accelerator": "GPU",
    "gpuClass": "standard"
  },
  "cells": [
    {
      "cell_type": "code",
      "execution_count": 1,
      "metadata": {
        "id": "KU-timN7U_4C"
      },
      "outputs": [],
      "source": [
        "import torch\n",
        "import torch.nn as nn\n",
        "import torch.optim as optim\n",
        "from torch.optim import lr_scheduler\n",
        "import torch.backends.cudnn as cudnn\n",
        "import numpy as np\n",
        "import torchvision\n",
        "from torchvision import datasets, models, transforms\n",
        "import matplotlib.pyplot as plt\n",
        "import time\n",
        "import os\n",
        "import copy\n",
        "import random\n",
        "\n",
        "from PIL import Image\n",
        "from torch.utils.data import Dataset\n",
        "from torch.utils.data import DataLoader\n",
        "from torchvision import datasets, models, transforms\n",
        "from torchsummary import summary"
      ]
    },
    {
      "cell_type": "code",
      "source": [
        "#mount the google drive\n",
        "from google.colab import drive\n",
        "drive.mount('/content/gdrive')"
      ],
      "metadata": {
        "colab": {
          "base_uri": "https://localhost:8080/"
        },
        "id": "U2VNn5aphO6D",
        "outputId": "57617934-1a07-40c7-dedf-caea23ed10f8"
      },
      "execution_count": 2,
      "outputs": [
        {
          "output_type": "stream",
          "name": "stdout",
          "text": [
            "Mounted at /content/gdrive\n"
          ]
        }
      ]
    },
    {
      "cell_type": "code",
      "source": [
        "classes = ['durian','pumpkin','tomato','watermelon']"
      ],
      "metadata": {
        "id": "aPBr9DLsVhEu"
      },
      "execution_count": 13,
      "outputs": []
    },
    {
      "cell_type": "code",
      "source": [
        "model = torch.load('/content/gdrive/MyDrive/fruit_dataset2/fruit_model/Fruit_model.pt')"
      ],
      "metadata": {
        "id": "9UjvbVxXV3Vu"
      },
      "execution_count": 14,
      "outputs": []
    },
    {
      "cell_type": "code",
      "source": [
        "# Applying Transforms to the Data\n",
        "import torchvision\n",
        "import torchvision.transforms as transforms\n",
        "\n",
        "image_transforms = transforms.Compose ([\n",
        "        transforms.Resize(256),\n",
        "        #transforms.Compose([\n",
        "        #transforms.RandomResizedCrop(size=256, scale=(0.8, 1.0)),\n",
        "        #transforms.RandomRotation(degrees=15),\n",
        "        #transforms.RandomHorizontalFlip(),\n",
        "        #transforms.CenterCrop(size=224),\n",
        "        transforms.ToTensor(),\n",
        "        transforms.Normalize([0.485, 0.456, 0.406],\n",
        "                             [0.229, 0.224, 0.225])\n",
        "    ])"
      ],
      "metadata": {
        "id": "eSl1OOTtWAPu"
      },
      "execution_count": 15,
      "outputs": []
    },
    {
      "cell_type": "code",
      "source": [
        "def classify(model, image_transforms, image_path, classes):\n",
        "  model = model.eval()\n",
        "  image = Image.open(image_path)\n",
        "  image = image_transforms(image).float()\n",
        "  image = image.unsqueeze(0)\n",
        "\n",
        "  output = model(image)\n",
        "  _,predicted = torch.max(output.data, 1)\n",
        "  print(classes[predicted. item()])"
      ],
      "metadata": {
        "id": "g3OfZxYwWQZb"
      },
      "execution_count": 21,
      "outputs": []
    },
    {
      "cell_type": "code",
      "source": [
        "classify(model, image_transforms, \"/content/gdrive/MyDrive/fruit_dataset2/test/watermelon.jpg\",classes)"
      ],
      "metadata": {
        "colab": {
          "base_uri": "https://localhost:8080/"
        },
        "id": "1XbcgHCrg_qA",
        "outputId": "981ae85b-fc9f-489b-9b79-3bceb06dab72"
      },
      "execution_count": 22,
      "outputs": [
        {
          "output_type": "stream",
          "name": "stdout",
          "text": [
            "durian\n"
          ]
        }
      ]
    },
    {
      "cell_type": "code",
      "source": [
        "classify(model, image_transforms, \"/content/gdrive/MyDrive/fruit_dataset2/test/pumpkin.jpg\",classes)"
      ],
      "metadata": {
        "colab": {
          "base_uri": "https://localhost:8080/"
        },
        "id": "CwFwacnT0mKY",
        "outputId": "6366e029-754d-49d3-8843-55be9364a41e"
      },
      "execution_count": 17,
      "outputs": [
        {
          "output_type": "stream",
          "name": "stdout",
          "text": [
            "pumpkin\n"
          ]
        }
      ]
    },
    {
      "cell_type": "code",
      "source": [
        "classify(model, image_transforms, \"/content/gdrive/MyDrive/fruit_dataset2/test/durian.jpg\",classes)"
      ],
      "metadata": {
        "colab": {
          "base_uri": "https://localhost:8080/"
        },
        "id": "wJiLKgRZ0ocR",
        "outputId": "9b951c12-2c0f-4c70-9892-11e54911e4ee"
      },
      "execution_count": 20,
      "outputs": [
        {
          "output_type": "stream",
          "name": "stdout",
          "text": [
            "durian\n"
          ]
        }
      ]
    },
    {
      "cell_type": "code",
      "source": [
        "classify(model, image_transforms, \"/content/gdrive/MyDrive/fruit_dataset2/test/tomato.jpg\",classes)"
      ],
      "metadata": {
        "colab": {
          "base_uri": "https://localhost:8080/"
        },
        "id": "-RIp98tm0o-t",
        "outputId": "4706e5fb-95d3-42b6-f7e5-97eef27e3cf5"
      },
      "execution_count": 18,
      "outputs": [
        {
          "output_type": "stream",
          "name": "stdout",
          "text": [
            "tomato\n"
          ]
        }
      ]
    }
  ]
}